{
 "cells": [
  {
   "cell_type": "markdown",
   "metadata": {},
   "source": [
    "# Assignment 3 - Transfer Learning\n",
    " \n",
    "**Authors:**\n",
    "\n",
    "1.   Liav Bachar 205888472\n",
    "2.   Naor Kolet 205533060\n"
   ]
  },
  {
   "cell_type": "markdown",
   "metadata": {
    "id": "I2z5iHmg0oke"
   },
   "source": [
    "# 0. Imports"
   ]
  },
  {
   "cell_type": "code",
   "execution_count": 1,
   "metadata": {
    "id": "pT--0V_r0Q4B"
   },
   "outputs": [],
   "source": [
    "import pandas as pd\n",
    "import numpy as np\n",
    "\n",
    "\n",
    "\n",
    "# TensorFlow\n",
    "import tensorflow as tf\n",
    "\n",
    "from tensorflow.keras.layers import Input, Dense, Flatten\n",
    "from tensorflow.keras.layers import BatchNormalization, Dropout\n",
    "from tensorflow.keras.layers import Conv2D, MaxPool2D, GlobalAveragePooling2D\n",
    "from tensorflow.keras.applications.resnet_v2 import preprocess_input\n",
    "from tensorflow.keras.models import Model, load_model\n",
    "from tensorflow.keras.callbacks import ModelCheckpoint, EarlyStopping, ReduceLROnPlateau\n",
    "from tensorflow.keras.optimizers import Adam\n",
    "\n",
    "\n",
    "from tensorflow.keras.applications import VGG16, ResNet50V2, EfficientNetB4,  MobileNetV2\n",
    "from tensorflow.keras.preprocessing.image import ImageDataGenerator\n",
    "from tensorflow.keras.constraints import max_norm\n",
    "\n",
    "# Scikit-learn\n",
    "from sklearn.model_selection import train_test_split\n",
    "# from sklearn.metrics import confusion_matrix, accuracy_score\n",
    "# from sklearn.model_selection import StratifiedKFold\n",
    "# from sklearn.linear_model import LogisticRegression\n",
    "# from sklearn.metrics import log_loss\n",
    " \n",
    "# Plots\n",
    "# import seaborn as sns\n",
    "import matplotlib.pyplot as plt\n",
    "\n",
    "# Misc.\n",
    "from scipy.io import loadmat\n",
    "import os\n",
    "import random\n",
    "import joblib\n",
    "import cv2\n",
    "from glob import glob\n",
    "from tqdm import tqdm_notebook as tqdm\n",
    "\n",
    "%matplotlib inline\n",
    "\n"
   ]
  },
  {
   "cell_type": "code",
   "execution_count": 14,
   "metadata": {},
   "outputs": [],
   "source": [
    "SEED = 42\n",
    "def set_seed():    \n",
    "    random.seed(SEED)\n",
    "    np.random.seed(SEED)\n",
    "    tf.random.set_seed(SEED)"
   ]
  },
  {
   "cell_type": "markdown",
   "metadata": {},
   "source": [
    "# Download Data"
   ]
  },
  {
   "cell_type": "code",
   "execution_count": 3,
   "metadata": {},
   "outputs": [],
   "source": [
    "# Another dataset? https://www.tensorflow.org/tutorials/load_data/images\n",
    "if not os.path.exists(r'./datasets/'):\n",
    "    !mkdir ./datasets\n",
    "    !wget 'https://www.robots.ox.ac.uk/~vgg/data/flowers/102/102flowers.tgz' -P './datasets/'\n",
    "    !tar -xf ./datasets/102flowers.tgz -C ./datasets/\n",
    "    \n",
    "#     !wget 'https://www.robots.ox.ac.uk/~vgg/data/flowers/102/102segmentations.tgz' -P './datasets/'\n",
    "    \n",
    "    !wget 'https://www.robots.ox.ac.uk/~vgg/data/flowers/102/imagelabels.mat' -P './datasets/'\n",
    "    \n",
    "labels = loadmat('./datasets/imagelabels.mat')['labels'].reshape(-1)"
   ]
  },
  {
   "cell_type": "markdown",
   "metadata": {},
   "source": [
    "## Load Images"
   ]
  },
  {
   "cell_type": "code",
   "execution_count": 4,
   "metadata": {},
   "outputs": [],
   "source": [
    "images_path = glob('./datasets/jpg/*')\n",
    "images_path.sort()"
   ]
  },
  {
   "cell_type": "code",
   "execution_count": 5,
   "metadata": {},
   "outputs": [],
   "source": [
    "def split_train_val_test(split_seed):\n",
    "    # train 50% validation 25% test 25%\n",
    "    train_paths, val_tst_paths, train_labels, val_tst_labels = train_test_split(images_path, labels, train_size=0.5, random_state=split_seed, shuffle=True, stratify=labels)\n",
    "    val_paths, tst_paths, val_labels, tst_labels = train_test_split(val_tst_paths, val_tst_labels, train_size=0.5, random_state=split_seed, shuffle=True, stratify=val_tst_labels)\n",
    "    \n",
    "    def convert2df(paths, labels): return pd.DataFrame({'filename': paths, 'class':labels}).astype(str)\n",
    "    train_df = convert2df(train_paths, train_labels)\n",
    "    val_df = convert2df(val_paths, val_labels)\n",
    "    test_df = convert2df(tst_paths, tst_labels)\n",
    "    \n",
    "    return train_df, val_df, test_df"
   ]
  },
  {
   "cell_type": "code",
   "execution_count": 6,
   "metadata": {},
   "outputs": [],
   "source": [
    "def balance_data_by_resample(df, per_class=128):\n",
    "\n",
    "    dfs = [df[df['class'] == i] for i in train_df['class'].unique()]\n",
    "#     per_class = max(per_class, max([df.shape[0] for df in dfs]))\n",
    "\n",
    "    def resample(df):\n",
    "        sample_amt = per_class - df.shape[0]\n",
    "        if sample_amt > 0:\n",
    "            sample_dfs = [df]\n",
    "            while sample_amt:\n",
    "                curr_amt = min(sample_amt, df.shape[0])\n",
    "                sample_df = df.sample(curr_amt)\n",
    "                sample_dfs.append(sample_df)\n",
    "                sample_amt -= curr_amt\n",
    "\n",
    "            return pd.concat(sample_dfs)\n",
    "        \n",
    "        if sample_amt < 0:\n",
    "            return df.sample(per_class)\n",
    "\n",
    "        return df\n",
    "\n",
    "    dfs_resample = [resample(df) for df in dfs]\n",
    "    \n",
    "    return pd.concat(dfs_resample)\n"
   ]
  },
  {
   "cell_type": "markdown",
   "metadata": {},
   "source": [
    "## Image Data Generator"
   ]
  },
  {
   "cell_type": "code",
   "execution_count": 7,
   "metadata": {},
   "outputs": [],
   "source": [
    "def datagen_flow(df, batch_size, resize_shape, subset):\n",
    "    classes = list(np.unique(labels).astype(str))\n",
    "    \n",
    "    if subset == 'traino':\n",
    "        data_gen = ImageDataGenerator(\n",
    "            rotation_range=20,\n",
    "            width_shift_range=0.2,\n",
    "            height_shift_range=0.2,\n",
    "            horizontal_flip=True,\n",
    "#              rescale=1./255\n",
    "            preprocessing_function=preprocess_input\n",
    "           )\n",
    "    else:\n",
    "        data_gen = ImageDataGenerator(preprocessing_function=preprocess_input)\n",
    "        \n",
    "    return data_gen.flow_from_dataframe(df, batch_size=batch_size, target_size=resize_shape, seed=SEED, validate_filenames=False, classes=classes, shuffle=True)"
   ]
  },
  {
   "cell_type": "markdown",
   "metadata": {},
   "source": [
    "# Pre-trained models"
   ]
  },
  {
   "cell_type": "code",
   "execution_count": 8,
   "metadata": {},
   "outputs": [],
   "source": [
    "def get_feature_extractor(base_model, width=224, height=224, channel=3):\n",
    "    model = base_model(input_shape=(width, height, channel), include_top=False)\n",
    "    \n",
    "    trainable = False\n",
    "    for layer in model.layers:\n",
    "        if base_model.__name__ == 'ResNet50V2' and 'conv5' in layer.name:\n",
    "            trainable = True\n",
    "            \n",
    "        layer.trainable = trainable\n",
    "        \n",
    "            \n",
    "    return Model(model.input, model.output, name=base_model.__name__)\n"
   ]
  },
  {
   "cell_type": "code",
   "execution_count": 9,
   "metadata": {
    "tags": []
   },
   "outputs": [],
   "source": [
    "\n",
    "output_shape = 102"
   ]
  },
  {
   "cell_type": "markdown",
   "metadata": {},
   "source": [
    "# Building the base model"
   ]
  },
  {
   "cell_type": "markdown",
   "metadata": {},
   "source": [
    "## Model Architecture"
   ]
  },
  {
   "cell_type": "markdown",
   "metadata": {},
   "source": [
    "<!-- Here we build our model architecture. It contains 4 main parts.\n",
    "\n",
    "1. **Embedding Layer** - Here the words of each song will be converted to their embeddings representations. We made this layer trainable, let the model learn the embeddings for the missing words.\n",
    "2. **Concatenate Layer** - Here we attach for each word entry the related melody record\n",
    "3. **LSTM Layers** - Here we created two layers of lstm, the first one learn features across the windows and outputs all the hidden states, the next one gets those hidden states and output a single feature that was learnt from them.\n",
    "4. **Softmax Layer** - Give each word in our dictionary the probabilty it will be the next word after the window.\n",
    "\n",
    "Note: We are using Dropout layers in order to reduce the overfitting -->"
   ]
  },
  {
   "cell_type": "markdown",
   "metadata": {},
   "source": [
    "## Training Framework"
   ]
  },
  {
   "cell_type": "code",
   "execution_count": 10,
   "metadata": {},
   "outputs": [],
   "source": [
    "def get_callbacks(model_name):\n",
    "    acc = 'val_acc'\n",
    "    acc_mode = 'max'\n",
    "    \n",
    "    checkpoint = ModelCheckpoint(\n",
    "                              fr'./models/{model_name}.h5', \n",
    "                              monitor=acc, \n",
    "#                               verbose=1, \n",
    "                              save_best_only=True, \n",
    "                              mode=acc_mode)\n",
    "    earlystop = EarlyStopping(monitor='val_loss', mode='min', verbose=1, patience=13)\n",
    "    reduceLR = ReduceLROnPlateau(monitor = 'val_loss', mode = 'min', patience = 7,\n",
    "                            factor = 0.5, min_lr = 1e-6, verbose = 1)\n",
    "\n",
    "    return [checkpoint, reduceLR]  #earlystop"
   ]
  },
  {
   "cell_type": "code",
   "execution_count": 11,
   "metadata": {
    "tags": []
   },
   "outputs": [],
   "source": [
    "def train_model(model_gen, fe_type, train_df, val_df, use_saved=False, params_dict=None):\n",
    "    os.makedirs('./models', exist_ok=True)\n",
    "    params = ''\n",
    "    if params_dict is not None:\n",
    "        params = '_'.join(f'{key}_{val}' for key,val in params_dict.items())\n",
    "    model_name = f'{fe_type}' + f'_{params}'\n",
    "        \n",
    "    if use_saved:\n",
    "        history = joblib.load(fr'./models/{model_name}_history.sav')\n",
    "    else:\n",
    "        callbacks = get_callbacks(model_name)\n",
    "        \n",
    "        train_flow = datagen_flow(train_df, params_dict['batch_size'], image_shape[:-1], 'train')\n",
    "        val_flow = datagen_flow(val_df, params_dict['batch_size'], image_shape[:-1], 'val')\n",
    "        \n",
    "        model = model_gen(image_shape, output_shape, fe_type)\n",
    "#         model = load_model(fr'./models/{model_name}.h5')\n",
    "        history = model.fit(\n",
    "                            x=train_flow,\n",
    "                            y=None,\n",
    "                            batch_size=None,\n",
    "                            epochs=params_dict['epochs'],\n",
    "                            validation_data=val_flow,\n",
    "                            callbacks=callbacks,\n",
    "                            steps_per_epoch = params_dict['steps'],\n",
    "                            validation_steps = params_dict['validation_steps'],\n",
    "                            workers=5\n",
    "                            )\n",
    "        \n",
    "        history = history.history\n",
    "        joblib.dump(history, fr'./models/{model_name}_history.sav')\n",
    "    \n",
    "    model = load_model(fr'./models/{model_name}.h5')\n",
    "    \n",
    "    return model, history"
   ]
  },
  {
   "cell_type": "code",
   "execution_count": 12,
   "metadata": {},
   "outputs": [],
   "source": [
    "def visualize_perf(history):\n",
    "    fig, ax = plt.subplots(ncols=2, figsize=(5*2,5))\n",
    "    fig.suptitle(f'Model performance over epochs')\n",
    "    \n",
    "    for k in ['loss', 'val_loss']:\n",
    "        ax[0].plot(history[k])\n",
    "        \n",
    "    ax[0].legend(['train_loss', 'val_loss'])\n",
    "    ax[0].margins(0.01)\n",
    "    ax[0].set_title('Crossentropy')\n",
    "    \n",
    "    for k in ['acc', 'val_acc']:\n",
    "        ax[1].plot(history[k])\n",
    "        \n",
    "    ax[1].legend(['train_accuracy', 'val_accuracy'])\n",
    "    ax[1].margins(0.01)\n",
    "    ax[1].set_title('Accuracy')\n",
    "    \n",
    "    plt.show()"
   ]
  },
  {
   "cell_type": "markdown",
   "metadata": {},
   "source": [
    "## Model Learning"
   ]
  },
  {
   "cell_type": "code",
   "execution_count": 24,
   "metadata": {},
   "outputs": [],
   "source": [
    " def init_model(image_shape, output_shape, fe_type='vgg'):\n",
    "    inp = Input(shape=image_shape, name='image')\n",
    "    \n",
    "    if fe_type == 'vgg':\n",
    "        X = get_feature_extractor(VGG16, width=224, heigh=224)(inp)\n",
    "    elif fe_type == 'resnet':\n",
    "        X = get_feature_extractor(ResNet50V2, width=224, height=224)(inp)\n",
    "    elif fe_type == 'mobile_net':\n",
    "        X = get_feature_extractor(MobileNetV2, width=160, height=160)(inp)\n",
    "    else:\n",
    "        X = inp\n",
    "    \n",
    "    \n",
    "    X = MaxPool2D(pool_size=(3, 3))(X)\n",
    "    X = Flatten()(X)\n",
    "#     X = Dropout(0.5)(X)\n",
    "    X = Dense(512, activation=\"relu\",  kernel_regularizer=tf.keras.regularizers.L2(0.01))(X)\n",
    "    X = Dropout(0.5)(X)\n",
    "    X = Dense(256, activation=\"relu\",  kernel_regularizer=tf.keras.regularizers.L2(0.01))(X)\n",
    "    X = Dropout(0.5)(X)\n",
    "    out = Dense(output_shape, activation=\"softmax\", name = 'out')(X)\n",
    "\n",
    "    model = Model(inp, out)\n",
    "\n",
    "    model.compile(loss='categorical_crossentropy', optimizer=Adam(learning_rate=1e-3), metrics=['acc'])\n",
    "    \n",
    "    return model\n",
    "    "
   ]
  },
  {
   "cell_type": "code",
   "execution_count": null,
   "metadata": {},
   "outputs": [
    {
     "name": "stdout",
     "output_type": "stream",
     "text": [
      "Training model 1\n",
      "Found 4094 non-validated image filenames belonging to 102 classes.\n",
      "Found 2047 non-validated image filenames belonging to 102 classes.\n",
      "Epoch 1/20\n",
      "127/127 [==============================] - 19s 125ms/step - loss: 16.3229 - acc: 0.0335 - val_loss: 10.3701 - val_acc: 0.1419\n",
      "Epoch 2/20\n",
      "127/127 [==============================] - 15s 119ms/step - loss: 8.1324 - acc: 0.1907 - val_loss: 5.6243 - val_acc: 0.3705\n",
      "Epoch 3/20\n",
      "127/127 [==============================] - 16s 120ms/step - loss: 5.2224 - acc: 0.3622 - val_loss: 4.3173 - val_acc: 0.4707\n",
      "Epoch 4/20\n",
      "127/127 [==============================] - 16s 121ms/step - loss: 3.7529 - acc: 0.5187 - val_loss: 3.1468 - val_acc: 0.6548\n",
      "Epoch 5/20\n",
      "127/127 [==============================] - 15s 118ms/step - loss: 2.9320 - acc: 0.6420 - val_loss: 2.5170 - val_acc: 0.7594\n",
      "Epoch 6/20\n",
      "127/127 [==============================] - 15s 119ms/step - loss: 2.3800 - acc: 0.7495 - val_loss: 2.0677 - val_acc: 0.8269\n",
      "Epoch 7/20\n",
      "127/127 [==============================] - 15s 117ms/step - loss: 1.9193 - acc: 0.8248 - val_loss: 1.9366 - val_acc: 0.8309\n",
      "Epoch 8/20\n",
      "127/127 [==============================] - 16s 125ms/step - loss: 1.6962 - acc: 0.8570 - val_loss: 1.7326 - val_acc: 0.8507\n",
      "Epoch 9/20\n",
      "127/127 [==============================] - 15s 116ms/step - loss: 1.4504 - acc: 0.8977 - val_loss: 1.6996 - val_acc: 0.8775\n",
      "Epoch 10/20\n",
      "127/127 [==============================] - 15s 117ms/step - loss: 1.3121 - acc: 0.9272 - val_loss: 1.4798 - val_acc: 0.8715\n",
      "Epoch 11/20\n",
      "127/127 [==============================] - 16s 123ms/step - loss: 1.1358 - acc: 0.9462 - val_loss: 1.3259 - val_acc: 0.8899\n",
      "Epoch 12/20\n",
      "127/127 [==============================] - 16s 125ms/step - loss: 1.1401 - acc: 0.9366 - val_loss: 1.4375 - val_acc: 0.8750\n",
      "Epoch 13/20\n",
      "127/127 [==============================] - 16s 127ms/step - loss: 1.0824 - acc: 0.9427 - val_loss: 1.3765 - val_acc: 0.8666\n",
      "Epoch 14/20\n",
      "127/127 [==============================] - 16s 123ms/step - loss: 0.9391 - acc: 0.9611 - val_loss: 1.4528 - val_acc: 0.8596\n",
      "Epoch 15/20\n",
      "127/127 [==============================] - 17s 130ms/step - loss: 1.0207 - acc: 0.9458 - val_loss: 1.4414 - val_acc: 0.8522\n",
      "Epoch 16/20\n",
      "127/127 [==============================] - 17s 129ms/step - loss: 0.9998 - acc: 0.9570 - val_loss: 1.4934 - val_acc: 0.8666\n",
      "Epoch 17/20\n",
      "127/127 [==============================] - 16s 127ms/step - loss: 0.9864 - acc: 0.9592 - val_loss: 1.4704 - val_acc: 0.8626\n",
      "Epoch 18/20\n",
      "127/127 [==============================] - 16s 124ms/step - loss: 1.0849 - acc: 0.9393 - val_loss: 1.3311 - val_acc: 0.8864\n",
      "\n",
      "Epoch 00018: ReduceLROnPlateau reducing learning rate to 0.0005000000237487257.\n",
      "Epoch 19/20\n",
      "127/127 [==============================] - 16s 125ms/step - loss: 0.8867 - acc: 0.9766 - val_loss: 1.0290 - val_acc: 0.9187\n",
      "Epoch 20/20\n",
      "127/127 [==============================] - 16s 123ms/step - loss: 0.6087 - acc: 0.9941 - val_loss: 0.8708 - val_acc: 0.9152\n",
      "Found 2048 non-validated image filenames belonging to 102 classes.\n",
      "63/63 [==============================] - 17s 266ms/step - loss: 1.0182 - acc: 0.9072\n",
      "Training model 2\n",
      "Found 4094 non-validated image filenames belonging to 102 classes.\n",
      "Found 2047 non-validated image filenames belonging to 102 classes.\n"
     ]
    }
   ],
   "source": [
    "def evaluate_model(model_gen, fe_type, k=5, params_dict=None):\n",
    "    histories = []\n",
    "    losses = []\n",
    "    accs = []\n",
    "    \n",
    "    for i in range(k):\n",
    "        print(f'Training model {i+1}')\n",
    "        \n",
    "        set_seed()\n",
    "        \n",
    "        train_df, val_df, test_df = split_train_val_test(SEED+i)\n",
    "        curr_model, curr_history = train_model(model_gen, fe_type, train_df, val_df, params_dict=params_dict)\n",
    "        \n",
    "        \n",
    "        test_flow = datagen_flow(test_df, params_dict['batch_size'], image_shape[:-1], 'test')\n",
    "        curr_loss, curr_acc = curr_model.evaluate(test_flow, steps=params_dict['validation_steps'])\n",
    "        \n",
    "        histories.append(curr_history)\n",
    "        losses.append(curr_loss)\n",
    "        accs.append(curr_acc)\n",
    "        \n",
    "        del curr_model\n",
    "        tf.keras.backend.clear_session()\n",
    "        \n",
    "    print(f'Test CrossEntropy: {np.mean(losses):.4f} +-{np.std(losses):.4f}')\n",
    "    print(f'Test Accuracy: {np.mean(accs)*100:.2f}% +-{np.std(accs)*100:.2f}%')\n",
    "    \n",
    "    return histories\n",
    "\n",
    "\n",
    "\n",
    "\n",
    "def visualize_perf(history_per_fold):\n",
    "    k = len(history_per_fold)\n",
    "    fig, ax = plt.subplots(nrows=2, ncols=k, figsize=(k*5,10))\n",
    "    fig.subplots_adjust(hspace=0.3, wspace=0.3)\n",
    "    fig.suptitle(f'Model performance over epochs')\n",
    "    \n",
    "    for fold_no, h in enumerate(history_per_fold):\n",
    "\n",
    "        for k in ['loss', 'val_loss']:\n",
    "            ax[0,fold_no].plot(h[k])\n",
    "            ax[0,fold_no].legend(['train_loss', 'val_loss'])\n",
    "            ax[0,fold_no].margins(0.01)\n",
    "            ax[0,fold_no].set_title(f'Fold #{fold_no+1} - loss')\n",
    "\n",
    "        for k in ['acc', 'val_acc']:\n",
    "            ax[1,fold_no].plot(h[k])\n",
    "            ax[1,fold_no].legend(['train_acc', 'val_acc'])\n",
    "            ax[1,fold_no].margins(0.01)\n",
    "            ax[1,fold_no].set_title(f'Fold #{fold_no+1} - accuracy')\n",
    "\n",
    "\n",
    "\n",
    "\n",
    "\n",
    "params_dict = {\n",
    "    'epochs': 20,\n",
    "    'batch_size': 32,\n",
    "    'steps': 127,\n",
    "    'validation_steps':63\n",
    "}\n",
    "\n",
    "image_shape = (224, 224, 3)\n",
    "resnet_histories = evaluate_model(init_model, 'resnet', k=2, params_dict=params_dict)\n",
    "visualize_perf(resnet_histories)\n",
    "\n",
    "\n"
   ]
  },
  {
   "cell_type": "markdown",
   "metadata": {},
   "source": [
    "## MobileNet"
   ]
  },
  {
   "cell_type": "code",
   "execution_count": 28,
   "metadata": {},
   "outputs": [
    {
     "name": "stdout",
     "output_type": "stream",
     "text": [
      "Found 4094 non-validated image filenames belonging to 102 classes.\n",
      "Found 2047 non-validated image filenames belonging to 102 classes.\n",
      "Epoch 1/20\n",
      "127/127 [==============================] - 22s 151ms/step - loss: 9.8021 - acc: 0.0450 - val_loss: 7.6439 - val_acc: 0.2202\n",
      "Epoch 2/20\n",
      "127/127 [==============================] - 19s 149ms/step - loss: 7.1214 - acc: 0.3019 - val_loss: 6.3163 - val_acc: 0.4266\n",
      "Epoch 3/20\n",
      "127/127 [==============================] - 18s 140ms/step - loss: 5.7220 - acc: 0.5603 - val_loss: 5.4406 - val_acc: 0.5799\n",
      "Epoch 4/20\n",
      "127/127 [==============================] - 19s 146ms/step - loss: 4.8592 - acc: 0.7084 - val_loss: 4.8817 - val_acc: 0.6567\n",
      "Epoch 5/20\n",
      "127/127 [==============================] - 18s 141ms/step - loss: 4.2732 - acc: 0.8085 - val_loss: 4.4993 - val_acc: 0.6989\n",
      "Epoch 6/20\n",
      "127/127 [==============================] - 19s 147ms/step - loss: 3.8627 - acc: 0.8818 - val_loss: 4.1978 - val_acc: 0.7302\n",
      "Epoch 7/20\n",
      "127/127 [==============================] - 19s 144ms/step - loss: 3.5630 - acc: 0.9226 - val_loss: 3.9595 - val_acc: 0.7426\n",
      "Epoch 8/20\n",
      "127/127 [==============================] - 18s 142ms/step - loss: 3.3024 - acc: 0.9432 - val_loss: 3.7181 - val_acc: 0.7609\n",
      "Epoch 9/20\n",
      "127/127 [==============================] - 19s 146ms/step - loss: 3.0638 - acc: 0.9690 - val_loss: 3.5230 - val_acc: 0.7822\n",
      "Epoch 10/20\n",
      "127/127 [==============================] - 18s 138ms/step - loss: 2.8561 - acc: 0.9818 - val_loss: 3.3335 - val_acc: 0.7907\n",
      "Epoch 11/20\n",
      "127/127 [==============================] - 19s 145ms/step - loss: 2.6760 - acc: 0.9908 - val_loss: 3.1588 - val_acc: 0.7971\n",
      "Epoch 12/20\n",
      "127/127 [==============================] - 18s 140ms/step - loss: 2.5114 - acc: 0.9945 - val_loss: 2.9854 - val_acc: 0.8135\n",
      "Epoch 13/20\n",
      "127/127 [==============================] - 19s 138ms/step - loss: 2.3433 - acc: 0.9963 - val_loss: 2.8380 - val_acc: 0.8095\n",
      "Epoch 14/20\n",
      "127/127 [==============================] - 19s 146ms/step - loss: 2.1964 - acc: 0.9982 - val_loss: 2.6709 - val_acc: 0.8189\n",
      "Epoch 15/20\n",
      "127/127 [==============================] - 18s 142ms/step - loss: 2.0539 - acc: 0.9986 - val_loss: 2.5340 - val_acc: 0.8214\n",
      "Epoch 16/20\n",
      "127/127 [==============================] - 18s 143ms/step - loss: 1.9196 - acc: 0.9995 - val_loss: 2.3981 - val_acc: 0.8244\n",
      "Epoch 17/20\n",
      "127/127 [==============================] - 19s 142ms/step - loss: 1.7917 - acc: 0.9989 - val_loss: 2.2551 - val_acc: 0.8299\n",
      "Epoch 18/20\n",
      "127/127 [==============================] - 19s 150ms/step - loss: 1.6672 - acc: 0.9989 - val_loss: 2.1395 - val_acc: 0.8304\n",
      "Epoch 19/20\n",
      "127/127 [==============================] - 18s 141ms/step - loss: 1.5474 - acc: 1.0000 - val_loss: 2.0138 - val_acc: 0.8353\n",
      "Epoch 20/20\n",
      "127/127 [==============================] - 19s 149ms/step - loss: 1.4399 - acc: 0.9999 - val_loss: 1.8985 - val_acc: 0.8358\n"
     ]
    }
   ],
   "source": [
    "params_dict = {\n",
    "    'epochs': 20,\n",
    "    'batch_size': 32,\n",
    "    'steps': 127,\n",
    "    'validation_steps':63\n",
    "}\n",
    "\n",
    "mobile_net_model, mobile_net_history = train_model(init_model, 'mobile_net', train_df, val_df, params_dict=params_dict)\n",
    "\n",
    "# del vgg_model\n",
    "tf.keras.backend.clear_session()"
   ]
  },
  {
   "cell_type": "code",
   "execution_count": 29,
   "metadata": {},
   "outputs": [
    {
     "data": {
      "image/png": "[encoded data removed]",
      "text/plain": [
       "<Figure size 720x360 with 2 Axes>"
      ]
     },
     "metadata": {
      "needs_background": "light"
     },
     "output_type": "display_data"
    }
   ],
   "source": [
    "visualize_perf(mobile_net_history)"
   ]
  },
  {
   "cell_type": "markdown",
   "metadata": {},
   "source": [
    "## ResNet"
   ]
  },
  {
   "cell_type": "code",
   "execution_count": 39,
   "metadata": {},
   "outputs": [],
   "source": [
    " def init_model(image_shape, output_shape, fe_type='vgg'):\n",
    "    inp = Input(shape=image_shape, name='image')\n",
    "    \n",
    "    if fe_type == 'vgg':\n",
    "        X = get_feature_extractor(VGG16, width=224, heigh=224)(inp)\n",
    "    elif fe_type == 'resnet':\n",
    "        X = get_feature_extractor(ResNet50V2, width=224, height=224)(inp)\n",
    "    elif fe_type == 'mobile_net':\n",
    "        X = get_feature_extractor(MobileNetV2, width=160, height=160)(inp)\n",
    "    else:\n",
    "        X = inp\n",
    "    \n",
    "    \n",
    "    X = MaxPool2D(pool_size=(3, 3))(X)\n",
    "    X = Flatten()(X)\n",
    "    X = Dense(256, activation=\"relu\",  kernel_regularizer=tf.keras.regularizers.L2(0.01))(X)\n",
    "    out = Dense(output_shape, activation=\"softmax\", name = 'out')(X)\n",
    "\n",
    "    model = Model(inp, out)\n",
    "\n",
    "    model.compile(loss='categorical_crossentropy', optimizer=Adam(learning_rate=1e-4), metrics=['acc'])\n",
    "    \n",
    "    return model\n",
    "    "
   ]
  },
  {
   "cell_type": "code",
   "execution_count": 40,
   "metadata": {},
   "outputs": [
    {
     "name": "stdout",
     "output_type": "stream",
     "text": [
      "Found 4094 non-validated image filenames belonging to 102 classes.\n",
      "Found 2047 non-validated image filenames belonging to 102 classes.\n",
      "Epoch 1/10\n",
      "127/127 [==============================] - 26s 181ms/step - loss: 9.9489 - acc: 0.1581 - val_loss: 6.0685 - val_acc: 0.5813\n",
      "Epoch 2/10\n",
      "127/127 [==============================] - 22s 167ms/step - loss: 4.4025 - acc: 0.9453 - val_loss: 5.0748 - val_acc: 0.7063\n",
      "Epoch 3/10\n",
      "127/127 [==============================] - 21s 163ms/step - loss: 3.7559 - acc: 0.9961 - val_loss: 4.5941 - val_acc: 0.7336\n",
      "Epoch 4/10\n",
      "127/127 [==============================] - 21s 162ms/step - loss: 3.4148 - acc: 0.9999 - val_loss: 4.2813 - val_acc: 0.7386\n",
      "Epoch 5/10\n",
      "127/127 [==============================] - 21s 165ms/step - loss: 3.1241 - acc: 0.9999 - val_loss: 4.0108 - val_acc: 0.7431\n",
      "Epoch 6/10\n",
      "127/127 [==============================] - 21s 163ms/step - loss: 2.8487 - acc: 0.9994 - val_loss: 3.7110 - val_acc: 0.7520\n",
      "Epoch 7/10\n",
      "127/127 [==============================] - 21s 163ms/step - loss: 2.5823 - acc: 1.0000 - val_loss: 3.4461 - val_acc: 0.7495\n",
      "Epoch 8/10\n",
      "127/127 [==============================] - 20s 155ms/step - loss: 2.3270 - acc: 1.0000 - val_loss: 3.1676 - val_acc: 0.7609\n",
      "Epoch 9/10\n",
      "127/127 [==============================] - 21s 163ms/step - loss: 2.0836 - acc: 1.0000 - val_loss: 2.9115 - val_acc: 0.7659\n",
      "Epoch 10/10\n",
      "127/127 [==============================] - 21s 164ms/step - loss: 1.8536 - acc: 1.0000 - val_loss: 2.6789 - val_acc: 0.7703\n"
     ]
    }
   ],
   "source": [
    "image_shape = (224, 224, 3)\n",
    "params_dict = {\n",
    "    'epochs': 10,\n",
    "    'batch_size': 32,\n",
    "    'steps': 127,\n",
    "    'validation_steps':63\n",
    "}\n",
    "\n",
    "mobile_net_model, mobile_net_history = train_model(init_model, 'resnet', train_df, val_df, params_dict=params_dict)\n",
    "\n",
    "# del vgg_model\n",
    "tf.keras.backend.clear_session()"
   ]
  },
  {
   "cell_type": "code",
   "execution_count": 38,
   "metadata": {},
   "outputs": [
    {
     "ename": "TypeError",
     "evalue": "unhashable type: 'slice'",
     "output_type": "error",
     "traceback": [
      "\u001b[0;31m---------------------------------------------------------------------------\u001b[0m",
      "\u001b[0;31mTypeError\u001b[0m                                 Traceback (most recent call last)",
      "\u001b[0;32m<ipython-input-38-06cc0ec07e1c>\u001b[0m in \u001b[0;36m<module>\u001b[0;34m\u001b[0m\n\u001b[0;32m----> 1\u001b[0;31m \u001b[0mvisualize_perf\u001b[0m\u001b[0;34m(\u001b[0m\u001b[0mmobile_net_history\u001b[0m\u001b[0;34m[\u001b[0m\u001b[0;34m:\u001b[0m\u001b[0;34m-\u001b[0m\u001b[0;36m1\u001b[0m\u001b[0;34m]\u001b[0m\u001b[0;34m)\u001b[0m\u001b[0;34m\u001b[0m\u001b[0;34m\u001b[0m\u001b[0m\n\u001b[0m",
      "\u001b[0;31mTypeError\u001b[0m: unhashable type: 'slice'"
     ]
    }
   ],
   "source": [
    "visualize_perf(mobile_net_history)"
   ]
  },
  {
   "cell_type": "code",
   "execution_count": null,
   "metadata": {},
   "outputs": [],
   "source": []
  }
 ],
 "metadata": {
  "kernelspec": {
   "display_name": "liav_env",
   "language": "python",
   "name": "liav_env"
  },
  "language_info": {
   "codemirror_mode": {
    "name": "ipython",
    "version": 3
   },
   "file_extension": ".py",
   "mimetype": "text/x-python",
   "name": "python",
   "nbconvert_exporter": "python",
   "pygments_lexer": "ipython3",
   "version": "3.8.10"
  }
 },
 "nbformat": 4,
 "nbformat_minor": 4
}
